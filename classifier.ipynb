{
 "cells": [
  {
   "cell_type": "code",
   "execution_count": 2,
   "metadata": {
    "scrolled": false
   },
   "outputs": [
    {
     "data": {
      "image/png": "[encoded data removed]",
      "text/plain": [
       "<Figure size 432x288 with 10 Axes>"
      ]
     },
     "metadata": {
      "needs_background": "light"
     },
     "output_type": "display_data"
    }
   ],
   "source": [
    "%matplotlib inline\n",
    "#画像分類器\n",
    "import matplotlib.pyplot as plt\n",
    "from sklearn import datasets\n",
    "\n",
    "#digitsデータのロード（数字データの画像ファイル）\n",
    "digits = datasets.load_digits()\n",
    "\n",
    "#画像の表示\n",
    "for label,img in zip(digits.target[:10],digits.images[:10]):\n",
    "    plt.subplot(2,5,label+1)\n",
    "    plt.axis(\"off\")\n",
    "    plt.imshow(img,cmap=plt.cm.gray_r,interpolation=\"nearest\")\n",
    "    plt.title(\"Digit:{0}\".format(label))\n",
    "    \n",
    "plt.show()"
   ]
  },
  {
   "cell_type": "markdown",
   "metadata": {},
   "source": [
    "0~9の手書き文字データの表示（まだ分類器ではない）\n"
   ]
  },
  {
   "cell_type": "code",
   "execution_count": 10,
   "metadata": {
    "scrolled": true
   },
   "outputs": [
    {
     "name": "stdout",
     "output_type": "stream",
     "text": [
      "Accuracy:\n",
      " 0.8461538461538461\n",
      "\n",
      "Confusion matrics:\n",
      " [[60 15]\n",
      " [ 7 61]]\n",
      "\n",
      "Precision:\n",
      " 0.8955223880597015\n",
      "\n",
      "Recall:\n",
      " 0.8\n",
      "\n",
      "F-measure:\n",
      " 0.8450704225352113\n"
     ]
    }
   ],
   "source": [
    "%matplotlib inline\n",
    "\n",
    "import numpy as np\n",
    "from sklearn import datasets,tree,metrics\n",
    "\n",
    "digits = datasets.load_digits()\n",
    "\n",
    "#3,8のデータ位置を求める\n",
    "flag_3_8 = (digits.target == 3) + (digits.target == 8)\n",
    "\n",
    "#3,8のデータの取得\n",
    "images = digits.images[flag_3_8]\n",
    "labels = digits.target[flag_3_8]\n",
    "\n",
    "images = images.reshape(images.shape[0],-1)\n",
    "\n",
    "#分類器の生成\n",
    "n_samples = len(flag_3_8[flag_3_8])\n",
    "train_size = int(n_samples * 3/5)\n",
    "classifier = tree.DecisionTreeClassifier()\n",
    "classifier.fit(images[:train_size],labels[:train_size])\n",
    "\n",
    "expected = labels[train_size:]\n",
    "predicted = classifier.predict(images[train_size:])\n",
    "\n",
    "print(\"Accuracy:\\n\",metrics.accuracy_score(expected,predicted))\n",
    "print(\"\\nConfusion matrics:\\n\",metrics.confusion_matrix(expected,predicted))\n",
    "print(\"\\nPrecision:\\n\",metrics.precision_score(expected,predicted,pos_label=3))\n",
    "print(\"\\nRecall:\\n\",metrics.recall_score(expected,predicted,pos_label=3))\n",
    "print(\"\\nF-measure:\\n\",metrics.f1_score(expected,predicted,pos_label=3))\n",
    "\n"
   ]
  },
  {
   "cell_type": "markdown",
   "metadata": {},
   "source": [
    "### プログラムの内容\n",
    "実際の分類器．Accuracy(正答率)は0.867..である．\n",
    "train_size = int(n_samples * 3/5)から，教師データをサンプルデータの60%としている．\n",
    "（サンプルデータ->学習データ（60%）＋テストデータ（40%）\n",
    "数値を変えれば結果も変化する．\n",
    "学習データとテストデータの分類は大切，学習データでのテスト->__過学習__\n",
    "\n",
    "### 過学習\n",
    "学習データの分布に偏りがある場合，それを含めた学習をしてしまう．つまり，汎用性が落ちる．\n",
    "\n",
    "ex.)身長の男女比の学習->日本人のデータのみでの学習では，アメリカ人のデータに適応できない\n",
    "\n",
    "### 学習法\n",
    "__決定木__ の使用．\n",
    "-決定木：データの分類法，樹木のようにデータを分岐させる．ex.)丸い/四角い->赤い/黄色　といった4分岐で果物を分類\n",
    "欠点：過学習しやすい，適応させづらい場合がある\n",
    "\n",
    "生成方：scikit-learnの利用，コードは  `classifier = tree.DecisionTreeClassifier(max_depth=3)`\n",
    "\n",
    "(from sklearn import treeで使用)\n",
    "\n",
    "-max_depth で決定木の最大深さを設定．（分類の深さ，exではmax_depth=2）\n",
    "\n",
    "木のモデルにも種類があり，defaultでは __CART__ という方法．引数 `criterion=\"entropy` の指定で __C4.5__ .\n",
    "\n",
    "### 性能の評価法\n",
    "出来上がった分類器の性能評価を行う．性能評価のパラメータとして，次の4種を設定．\n",
    "\n",
    "なお．分類器は入力データに対してPositive/Negativeのどちらかを返すものとする．\n",
    "\n",
    "ex.)病気の判定->陽性ならPositive，陰性ならNegative\n",
    "- True-positive\n",
    "- False-positive\n",
    "- True-Negative\n",
    "- False-Negative\n",
    "\n",
    "True/Falseで分類の成功/失敗，Positive/Negativeは分類の種類．\n",
    "\n",
    "ex.)True-Positiveなら陽性の判定かつその判定が当たっている（病気）False-Negativeなら陰性という判定が間違っている（病気）．状態としてはTrue-Positive == False-Negative\n",
    "\n",
    "以上のパラメータから，次の3つのパラメータを算出できる\n",
    "__Accuracy(正答率）= (TP+TN)/(TP+FP+FN+TN)\n",
    "Precision(適合率）= (TP)/(TP+FP)\n",
    "Recall(再現率）=(TP)/(TP+FN)__\n",
    "\n",
    "さらに，よく用いられる指標として __F値__ が存在する\n",
    "\n",
    "__F-measure(F値) = (2Precision×Recall)/(Precision + Recall)__\n",
    "->適合率と再現率の調和平均\n",
    "\n",
    "#### Accuracy\n",
    "全体の事象の中で，どれだけ __判定に成功__ したか．一つの分類器に一つ存在．\n",
    "\n",
    "コード：`metrics.accuracy_score()` \n",
    "\n",
    "#### Precision\n",
    "分類器がPositive(Negative)と予想した中で，真にPositive(Negative)なものの比率．\n",
    "ある __分類自体の成功率__ ．したがって，分類数だけ存在する値である．\n",
    "\n",
    "コード：`metrics.precision_score()`\n",
    "\n",
    "#### Recall\n",
    "真にPositiveなものに対して，分類器がPositiveであると予想できた比率を示した値．\n",
    "ex.)TP==FNであると示したが，FNの場合，病気なのに判定されていない，という状況にある．\n",
    "（NegativeのRecallはこの比率．）\n",
    "\n",
    "コード：`metrics.recall_score()`\n",
    "\n",
    "#### F-measure\n",
    "適合率と再現率の調和平均．この二つの指標を総合的に判断するときに用いる．\n",
    "\n",
    "コード：`metrics.fl_score()`\n",
    "\n",
    "#### confusion matrix\n",
    "混同行列．予測/実際の真偽で分類された表．すなわち，TP,FP,TN,FNをしめす表．\n",
    "\n",
    "コード：`metrics.confusion_matrics()`\n",
    "\n",
    "### 実際の評価との関連\n",
    "-Accuracy=0.86:非常に高い...というわけではない．より正確なものが求められるのではないか\n",
    "\n",
    "-confusion matrixから見る分類の傾向：\n",
    "表の見方は，[[3,8],[3,8]]つまり，[0,0]が実際に3で判定も3，[1,1]が実際に8で判定も8\n",
    "したがって，3よりも8のほうが高く判定できる．\n",
    "precision/recallは３の場合の値．\n",
    "\n",
    "\n",
    "## 評価の注意点\n",
    "今回の分類器は，8は比較的高く判定できるが，(recall-8 = 61/68=0.897)3はさして高くない(recall-3 = 60/75=0.8)．\n",
    "ただし予測の正答率は8よりも(precision-8 = 0.80)３のほうが高い(precision-3 = 0.89).\n",
    "このように，precisionとrecallは反比例の関係にある．\n",
    "分類器の評価において重要なのは，分類の目的である． __誤検出を防ぐ__ ことが求められるなら，見落とし(False-Positive)が多少多くなっても確実にPositiveなものを選択する必要がある．したがって，再現率よりも __適合率__ が求められる．\n",
    "逆にコストパフォーマンスを重視して __見落としを減らす__ のならば，多少の誤検知(False-Positive)が多くなってもPositiveと判定したものを多く回収する必要がある．すなわち適合率よりも __再現率__ ．\n",
    "課題によって，どのようなパラメータが重視されるのか，よく見極めなければならない．総合的な評価をしたい場合は，F値を参考にするとよい．\n",
    "\n",
    "ex.)例に出した，病気の判定について考える．\n",
    "仮にこの病気が重大なものであった場合，減らすべきはFalse-Negativeだ．\"病気かもしれないが違った\"よりも\"病気じゃなかったけど実は病気だった\"が最もよくないのである．したがって， __False-Negativeの最小化__ が求められる．\n",
    "反対に，症状が出ているが本当にその重篤な病気なのかわからない，という場合は， __False-Positiveの最小化__ が求められる．\n",
    "\"実際はそうじゃないのに，強い副作用を持つ薬を使用してしまった\"という場合を避けるためだ．\n",
    "FP/FNはトレードオフの関係にあるが，どの場合に，どの判定法を用いるか，というのが非常に重要である．\n",
    "\n",
    "[参考](https://quita.com/steel_code/items/101c9d037d5e8c2b7876)"
   ]
  },
  {
   "cell_type": "code",
   "execution_count": null,
   "metadata": {},
   "outputs": [],
   "source": []
  }
 ],
 "metadata": {
  "kernelspec": {
   "display_name": "Python 3",
   "language": "python",
   "name": "python3"
  },
  "language_info": {
   "codemirror_mode": {
    "name": "ipython",
    "version": 3
   },
   "file_extension": ".py",
   "mimetype": "text/x-python",
   "name": "python",
   "nbconvert_exporter": "python",
   "pygments_lexer": "ipython3",
   "version": "3.7.3"
  }
 },
 "nbformat": 4,
 "nbformat_minor": 2
}
